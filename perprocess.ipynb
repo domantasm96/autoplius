{
 "cells": [
  {
   "cell_type": "code",
   "execution_count": 14,
   "metadata": {},
   "outputs": [],
   "source": [
    "import pandas as pd\n",
    "import numpy as np\n",
    "import requests\n",
    "from bs4 import BeautifulSoup\n",
    "import re\n",
    "from datetime import datetime\n",
    "import random "
   ]
  },
  {
   "cell_type": "code",
   "execution_count": 3,
   "metadata": {},
   "outputs": [
    {
     "name": "stderr",
     "output_type": "stream",
     "text": [
      "/home/domantas/.local/lib/python3.6/site-packages/IPython/core/interactiveshell.py:3051: DtypeWarning: Columns (3,6,7,13,14,15,18,19,20,21,25,26,27,31,38,39,41,42,43,45,48,49,51,53,55,58,60,61,64,65,66,68,70,73,74,75,77,78,81,83,85,86,87,91,92,98,103,104,105,107,113,114,115,117,121,124,125,128,130,135,138,146) have mixed types. Specify dtype option on import or set low_memory=False.\n",
      "  interactivity=interactivity, compiler=compiler, result=result)\n"
     ]
    }
   ],
   "source": [
    "df = pd.read_csv('sample.csv', lineterminator='\\n')"
   ]
  },
  {
   "cell_type": "code",
   "execution_count": 5,
   "metadata": {},
   "outputs": [
    {
     "data": {
      "text/plain": [
       "Index(['Unnamed: 0', 'Unnamed: 1', 'Accessories and consumables', 'Acura',\n",
       "       'Additional equipment', 'Audi', 'Audio/video equipment',\n",
       "       'Axle (lorries)', 'Axles make', 'BMW',\n",
       "       ...\n",
       "       'image', 'last_updated', 'memorized', 'phone', 'price', 'scrape_date',\n",
       "       'sitemap_link', 'title', 'update_timestamp', 'url'],\n",
       "      dtype='object', length=167)"
      ]
     },
     "execution_count": 5,
     "metadata": {},
     "output_type": "execute_result"
    }
   ],
   "source": [
    "df.columns"
   ]
  },
  {
   "cell_type": "code",
   "execution_count": 8,
   "metadata": {},
   "outputs": [
    {
     "data": {
      "text/plain": [
       "array([nan,\n",
       "       \"['-kita-', 'CL', 'EL', 'Integra', 'MDX', 'NSX', 'RDX', 'RL', 'RSX', 'SLX', 'TL', 'TSX', 'Vigor']\"],\n",
       "      dtype=object)"
      ]
     },
     "execution_count": 8,
     "metadata": {},
     "output_type": "execute_result"
    }
   ],
   "source": [
    "df['Acura'].unique()"
   ]
  },
  {
   "cell_type": "code",
   "execution_count": 13,
   "metadata": {},
   "outputs": [
    {
     "data": {
      "text/plain": [
       "\"('https://en.autoplius.lt/ads/mak-r15-5x114-3mm-et40-j7-light-alloy-r15-726698.html', '2020-01-24T00:00:00+02:00', '0.55')\""
      ]
     },
     "execution_count": 13,
     "metadata": {},
     "output_type": "execute_result"
    }
   ],
   "source": [
    "df[~df.Acura.isnull()].url.iloc[0]"
   ]
  },
  {
   "cell_type": "code",
   "execution_count": 17,
   "metadata": {},
   "outputs": [
    {
     "data": {
      "text/plain": [
       "200"
      ]
     },
     "execution_count": 17,
     "metadata": {},
     "output_type": "execute_result"
    }
   ],
   "source": [
    "USER_AGENT = \"Mozilla/5.0 (Windows NT 5.1; rv:9.0.1) Gecko/20100101 Firefox/9.0.1\"\n",
    "headers = requests.utils.default_headers()\n",
    "headers.update(\n",
    "    {\n",
    "        'User-Agent': USER_AGENT,\n",
    "    }\n",
    "\n",
    ")\n",
    "r = requests.get('https://en.autoplius.lt/ads/mak-r15-5x114-3mm-et40-j7-light-alloy-r15-726698.html', headers=headers)\n",
    "prod_soup = BeautifulSoup(r.text, \"html.parser\")\n",
    "r.status_code\n"
   ]
  },
  {
   "cell_type": "code",
   "execution_count": 20,
   "metadata": {},
   "outputs": [],
   "source": [
    "features = []\n",
    "for row in prod_soup.findAll('div', {'class': 'feature-row'}):\n",
    "    feature_label = [re.sub('(\\n)|([ ]{2,})', '', tag.text) for tag in row.findAll('div', {'class': 'feature-label'})]\n",
    "    feature_value = [re.sub('(\\n)|([ ]{2,})', '', tag.text) for tag in row.findAll('span', {'class': 'feature-item'})]\n",
    "    features.append({feature_label[0]: feature_value})"
   ]
  },
  {
   "cell_type": "code",
   "execution_count": 24,
   "metadata": {},
   "outputs": [
    {
     "data": {
      "text/plain": [
       "{'Acura': ['-kita-',\n",
       "  'CL',\n",
       "  'EL',\n",
       "  'Integra',\n",
       "  'MDX',\n",
       "  'NSX',\n",
       "  'RDX',\n",
       "  'RL',\n",
       "  'RSX',\n",
       "  'SLX',\n",
       "  'TL',\n",
       "  'TSX',\n",
       "  'Vigor']}"
      ]
     },
     "execution_count": 24,
     "metadata": {},
     "output_type": "execute_result"
    }
   ],
   "source": [
    "features[1]"
   ]
  },
  {
   "cell_type": "code",
   "execution_count": null,
   "metadata": {},
   "outputs": [],
   "source": []
  }
 ],
 "metadata": {
  "kernelspec": {
   "display_name": "Python 3",
   "language": "python",
   "name": "python3"
  },
  "language_info": {
   "codemirror_mode": {
    "name": "ipython",
    "version": 3
   },
   "file_extension": ".py",
   "mimetype": "text/x-python",
   "name": "python",
   "nbconvert_exporter": "python",
   "pygments_lexer": "ipython3",
   "version": "3.6.9"
  }
 },
 "nbformat": 4,
 "nbformat_minor": 4
}
