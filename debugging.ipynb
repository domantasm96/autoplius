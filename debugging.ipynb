{
 "cells": [
  {
   "cell_type": "code",
   "execution_count": null,
   "metadata": {},
   "outputs": [],
   "source": [
    "import pandas as pd\n",
    "import numpy as np\n",
    "import requests\n",
    "from bs4 import BeautifulSoup\n",
    "import re\n",
    "from datetime import datetime\n",
    "import random "
   ]
  },
  {
   "cell_type": "code",
   "execution_count": null,
   "metadata": {},
   "outputs": [],
   "source": [
    "df = pd.read_csv('sample.csv', lineterminator='\\n')"
   ]
  },
  {
   "cell_type": "code",
   "execution_count": null,
   "metadata": {},
   "outputs": [],
   "source": [
    "r = requests.get('https://en.autoplius.lt/ads/jcb-535-95-agri-super-warehouse-equipment-10351305.html')\n",
    "prod_soup = BeautifulSoup(r.text, \"html.parser\")\n",
    "re.findall('[0-9]+ lankytojai', prod_soup.findAll('div', {'class': 'bookmark-stats-bar'})[0].text)[0]"
   ]
  },
  {
   "cell_type": "code",
   "execution_count": null,
   "metadata": {},
   "outputs": [],
   "source": [
    "prod_soup.findAll('span', {'class': 'bar-item'})[1].text tag in "
   ]
  },
  {
   "cell_type": "code",
   "execution_count": null,
   "metadata": {},
   "outputs": [],
   "source": [
    "[tag.text for tag in prod_soup.findAll('span', {'class': 'bar-item'}) if 'Updated' in tag.text][0]"
   ]
  },
  {
   "cell_type": "code",
   "execution_count": null,
   "metadata": {},
   "outputs": [],
   "source": [
    "USER_AGENT = \"Mozilla/5.0 (Windows NT 5.1; rv:9.0.1) Gecko/20100101 Firefox/9.0.1\"\n",
    "headers = requests.utils.default_headers()\n",
    "headers.update(\n",
    "    {\n",
    "        'User-Agent': USER_AGENT,\n",
    "    }\n",
    "\n",
    ")\n",
    "r = requests.get('https://en.autoplius.lt/ads/volkswagen-touareg-3-0-l-suv-off-road-2007-diesel-10283181.html', headers=headers)\n",
    "prod_soup = BeautifulSoup(r.text, \"html.parser\")\n",
    "r.status_code\n"
   ]
  },
  {
   "cell_type": "code",
   "execution_count": null,
   "metadata": {},
   "outputs": [],
   "source": [
    "import base64\n",
    "import pytesseract\n",
    "from PIL import Image\n",
    "from io import BytesIO\n",
    "\n",
    "def decode_vin(encoded_vin):\n",
    "    im = Image.open(BytesIO(base64.b64decode(encoded_vin))).resize((400, 50))\n",
    "    return pytesseract.image_to_string(im)\n",
    "\n",
    "r = requests.get('https://en.autoplius.lt/ads/dodge-charger-6-2-l-saloon-sedan-2015-petrol-9652821.html')\n",
    "prod_soup = BeautifulSoup(r.text, \"html.parser\")\n",
    "if len(re.findall('data:image/png;base64, .*\"', r.text)):\n",
    "    encoded_vin = re.sub('data:image/png;base64, ', '', re.findall('data:image/png;base64, .*\"', r.text)[0][:-1])\n",
    "    decoded_vin = decode_vin(encoded_vin)"
   ]
  },
  {
   "cell_type": "code",
   "execution_count": null,
   "metadata": {},
   "outputs": [],
   "source": []
  }
 ],
 "metadata": {
  "kernelspec": {
   "display_name": "Python 3",
   "language": "python",
   "name": "python3"
  },
  "language_info": {
   "codemirror_mode": {
    "name": "ipython",
    "version": 3
   },
   "file_extension": ".py",
   "mimetype": "text/x-python",
   "name": "python",
   "nbconvert_exporter": "python",
   "pygments_lexer": "ipython3",
   "version": "3.6.9"
  }
 },
 "nbformat": 4,
 "nbformat_minor": 4
}
